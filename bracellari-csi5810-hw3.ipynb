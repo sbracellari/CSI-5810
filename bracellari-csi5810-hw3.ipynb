{
 "metadata": {
  "language_info": {
   "codemirror_mode": {
    "name": "ipython",
    "version": 3
   },
   "file_extension": ".py",
   "mimetype": "text/x-python",
   "name": "python",
   "nbconvert_exporter": "python",
   "pygments_lexer": "ipython3",
   "version": "3.8.6-final"
  },
  "orig_nbformat": 2,
  "kernelspec": {
   "name": "python3",
   "display_name": "Python 3.8.6 64-bit",
   "metadata": {
    "interpreter": {
     "hash": "767d51c1340bd893661ea55ea3124f6de3c7a262a8b4abca0554b478b1e2ff90"
    }
   }
  }
 },
 "nbformat": 4,
 "nbformat_minor": 2,
 "cells": [
  {
   "source": [
    "# Samantha Bracellari\n",
    "\n",
    "## CSI 5810 Assignment 3"
   ],
   "cell_type": "markdown",
   "metadata": {}
  },
  {
   "source": [
    "### Problem 1 - The Perceptron Learning Rule"
   ],
   "cell_type": "markdown",
   "metadata": {}
  },
  {
   "cell_type": "code",
   "execution_count": 24,
   "metadata": {
    "tags": []
   },
   "outputs": [
    {
     "output_type": "stream",
     "name": "stdout",
     "text": [
      "\nIteration 1 \n\nThe number 5 is acceptable for class A.\nThe number 9 is acceptable for class B.\nThe number 5 is not acceptable for class C. Adjusting weight to [ 0  0 -2]\nThe number 1.0 is not acceptable for class D. Adjusting weight to [-1.   1.  -1.5] \n\n\nIteration 2 \n\nThe number -2.0 is not acceptable for class A. Adjusting weight to [0.  3.  0.5]\nThe number 11.5 is acceptable for class B.\nThe number 4.5 is not acceptable for class C. Adjusting weight to [-1.   2.  -2.5]\nThe number -1.75 is acceptable for class D.\n\n\nIteration 3 \n\nThe number -2.0 is not acceptable for class A. Adjusting weight to [ 0.   4.  -0.5]\nThe number 9.5 is acceptable for class B.\nThe number 2.5 is not acceptable for class C. Adjusting weight to [-1.   3.  -3.5]\nThe number -2.25 is acceptable for class D.\n\n\nIteration 4 \n\nThe number -2.0 is not acceptable for class A. Adjusting weight to [ 0.   5.  -1.5]\nThe number 7.5 is acceptable for class B.\nThe number 0.5 is not acceptable for class C. Adjusting weight to [-1.   4.  -4.5]\nThe number -2.75 is acceptable for class D.\n\n\nIteration 5 \n\nThe number -2.0 is not acceptable for class A. Adjusting weight to [ 0.   6.  -2.5]\nThe number 5.5 is acceptable for class B.\nThe number -1.5 is acceptable for class C.\nThe number -4.75 is acceptable for class D.\n\n\nIteration 6 \n\nThe number 7.0 is acceptable for class A.\nThe number 5.5 is acceptable for class B.\nThe number -1.5 is acceptable for class C.\nThe number -4.75 is acceptable for class D.\n\n\nFinal weight vector: [ 0.   6.  -2.5]\n"
     ]
    }
   ],
   "source": [
    "# import libs\n",
    "import numpy as np\n",
    "\n",
    "# class 1 - positive examples; biases augmented at beginning\n",
    "A = np.array([1, 2, 2]) \n",
    "B = np.array([1, 3, 5])\n",
    "\n",
    "# class 2 - negative examples; biases augmented at beginning\n",
    "C = np.array([1, 1, 3])\n",
    "D = np.array([1, -1, -0.5])\n",
    "\n",
    "w0 = np.array([1, 1, 1]) # initial weight vector\n",
    "\n",
    "solution = 0\n",
    "iteration = 0\n",
    "\n",
    "while solution is 0:\n",
    "    iteration += 1\n",
    "    solution = 1\n",
    "\n",
    "    print('\\nIteration', iteration, '\\n')\n",
    "\n",
    "    if (np.sum(w0*A) < 0):\n",
    "        print('The number', np.sum(w0*A), 'is not acceptable for class A. Adjusting weight to', w0 + A)\n",
    "        w0 += A\n",
    "        solution = 0\n",
    "    else: \n",
    "        print('The number', np.sum(w0*A), 'is acceptable for class A.')\n",
    "\n",
    "    if (np.sum(w0*B) < 0):\n",
    "        print('The number', np.sum(w0*B), 'is not acceptable for class B. Adjusting weight to', w0 + B)\n",
    "        w0 += B\n",
    "        solution = 0\n",
    "    else: \n",
    "        print('The number', np.sum(w0*B), 'is acceptable for class B.')\n",
    "    \n",
    "    if (np.sum(w0*C) >= 0):\n",
    "        print('The number', np.sum(w0*C), 'is not acceptable for class C. Adjusting weight to', w0 - C)\n",
    "        w0 -= C\n",
    "        solution = 0\n",
    "    else: \n",
    "        print('The number', np.sum(w0*C), 'is acceptable for class C.')\n",
    "    \n",
    "    if (np.sum(w0*D) >= 0):\n",
    "        print('The number', np.sum(w0*D), 'is not acceptable for class D. Adjusting weight to', w0 - D, '\\n')\n",
    "        w0 = w0 - D\n",
    "        solution = 0\n",
    "    else: \n",
    "        print('The number', np.sum(w0*D), 'is acceptable for class D.\\n')\n",
    "    \n",
    "print('\\nFinal weight vector:', w0)\n",
    "        "
   ]
  },
  {
   "source": [
    "-----\n",
    "\n",
    "### Problem 2 - The Majority Rule"
   ],
   "cell_type": "markdown",
   "metadata": {}
  },
  {
   "cell_type": "code",
   "execution_count": 1,
   "metadata": {},
   "outputs": [
    {
     "output_type": "stream",
     "name": "stdout",
     "text": [
      "Accuracy with 7 learners: 60.8288 %\n"
     ]
    }
   ],
   "source": [
    "# import libs\n",
    "from scipy.special import comb\n",
    "import math\n",
    "\n",
    "def majority(L, p): # where L = number of learners, p = accuracy of each learner\n",
    "    accuracy = 0 # initial accuracy\n",
    "    for m in range (0, math.floor(L/2) + 1): # add 1 since the upper bound is not inclusive\n",
    "        c = comb(L, m) # n choose r combination\n",
    "        accuracy += c*(p**(L-m)*(1-p)**m) # majority rule equation\n",
    "    return accuracy\n",
    "\n",
    "acc = majority(7, 0.55) # 7 learners, each with 55% accuracy\n",
    "print('Accuracy with 7 learners:', round(acc*100, 4), '%')"
   ]
  },
  {
   "cell_type": "code",
   "execution_count": 2,
   "metadata": {},
   "outputs": [
    {
     "output_type": "stream",
     "name": "stdout",
     "text": [
      "\nNumber of learners required for 90% accuracy: 144\n"
     ]
    }
   ],
   "source": [
    "# next, calculate how many learners are needed to reach 90% accuracy\n",
    "l = 0 # inital number of learners\n",
    "accuracy = 0 # inital accuracy\n",
    "while (accuracy < 0.90):\n",
    "    l += 1\n",
    "    accuracy = majority(l, 0.55)\n",
    "    \n",
    "print('\\nNumber of learners required for 90% accuracy:', l)"
   ]
  },
  {
   "source": [
    "-----\n",
    "\n",
    "### Problem 3 - Fisher's Linear Discriminant"
   ],
   "cell_type": "markdown",
   "metadata": {}
  },
  {
   "cell_type": "code",
   "execution_count": 26,
   "metadata": {},
   "outputs": [
    {
     "output_type": "display_data",
     "data": {
      "text/plain": "<Figure size 720x72 with 1 Axes>",
      "image/svg+xml": "<?xml version=\"1.0\" encoding=\"utf-8\" standalone=\"no\"?>\n<!DOCTYPE svg PUBLIC \"-//W3C//DTD SVG 1.1//EN\"\n  \"http://www.w3.org/Graphics/SVG/1.1/DTD/svg11.dtd\">\n<!-- Created with matplotlib (https://matplotlib.org/) -->\n<svg height=\"85.438125pt\" version=\"1.1\" viewBox=\"0 0 584.541406 85.438125\" width=\"584.541406pt\" xmlns=\"http://www.w3.org/2000/svg\" xmlns:xlink=\"http://www.w3.org/1999/xlink\">\n <metadata>\n  <rdf:RDF xmlns:cc=\"http://creativecommons.org/ns#\" xmlns:dc=\"http://purl.org/dc/elements/1.1/\" xmlns:rdf=\"http://www.w3.org/1999/02/22-rdf-syntax-ns#\">\n   <cc:Work>\n    <dc:type rdf:resource=\"http://purl.org/dc/dcmitype/StillImage\"/>\n    <dc:date>2020-10-20T22:26:44.369442</dc:date>\n    <dc:format>image/svg+xml</dc:format>\n    <dc:creator>\n     <cc:Agent>\n      <dc:title>Matplotlib v3.3.2, https://matplotlib.org/</dc:title>\n     </cc:Agent>\n    </dc:creator>\n   </cc:Work>\n  </rdf:RDF>\n </metadata>\n <defs>\n  <style type=\"text/css\">*{stroke-linecap:butt;stroke-linejoin:round;}</style>\n </defs>\n <g id=\"figure_1\">\n  <g id=\"patch_1\">\n   <path d=\"M 0 85.438125 \nL 584.541406 85.438125 \nL 584.541406 0 \nL 0 0 \nz\n\" style=\"fill:none;\"/>\n  </g>\n  <g id=\"axes_1\">\n   <g id=\"patch_2\">\n    <path d=\"M 19.341406 61.56 \nL 577.341406 61.56 \nL 577.341406 7.2 \nL 19.341406 7.2 \nz\n\" style=\"fill:#ffffff;\"/>\n   </g>\n   <g id=\"PathCollection_1\">\n    <defs>\n     <path d=\"M 0 3 \nC 0.795609 3 1.55874 2.683901 2.12132 2.12132 \nC 2.683901 1.55874 3 0.795609 3 0 \nC 3 -0.795609 2.683901 -1.55874 2.12132 -2.12132 \nC 1.55874 -2.683901 0.795609 -3 0 -3 \nC -0.795609 -3 -1.55874 -2.683901 -2.12132 -2.12132 \nC -2.683901 -1.55874 -3 -0.795609 -3 0 \nC -3 0.795609 -2.683901 1.55874 -2.12132 2.12132 \nC -1.55874 2.683901 -0.795609 3 0 3 \nz\n\" id=\"ma98d24c92d\" style=\"stroke:#000000;\"/>\n    </defs>\n    <g clip-path=\"url(#pa040f183e9)\">\n     <use style=\"stroke:#000000;\" x=\"496.665769\" xlink:href=\"#ma98d24c92d\" y=\"34.38\"/>\n     <use style=\"stroke:#000000;\" x=\"84.475043\" xlink:href=\"#ma98d24c92d\" y=\"34.38\"/>\n     <use style=\"stroke:#000000;\" x=\"384.172834\" xlink:href=\"#ma98d24c92d\" y=\"34.38\"/>\n    </g>\n   </g>\n   <g id=\"matplotlib.axis_1\">\n    <g id=\"xtick_1\">\n     <g id=\"line2d_1\">\n      <defs>\n       <path d=\"M 0 0 \nL 0 3.5 \n\" id=\"m1002c2ec59\" style=\"stroke:#000000;stroke-width:0.8;\"/>\n      </defs>\n      <g>\n       <use style=\"stroke:#000000;stroke-width:0.8;\" x=\"19.341406\" xlink:href=\"#m1002c2ec59\" y=\"61.56\"/>\n      </g>\n     </g>\n     <g id=\"text_1\">\n      <!-- −3.0 -->\n      <g transform=\"translate(7.2 76.158437)scale(0.1 -0.1)\">\n       <defs>\n        <path d=\"M 10.59375 35.5 \nL 73.1875 35.5 \nL 73.1875 27.203125 \nL 10.59375 27.203125 \nz\n\" id=\"DejaVuSans-8722\"/>\n        <path d=\"M 40.578125 39.3125 \nQ 47.65625 37.796875 51.625 33 \nQ 55.609375 28.21875 55.609375 21.1875 \nQ 55.609375 10.40625 48.1875 4.484375 \nQ 40.765625 -1.421875 27.09375 -1.421875 \nQ 22.515625 -1.421875 17.65625 -0.515625 \nQ 12.796875 0.390625 7.625 2.203125 \nL 7.625 11.71875 \nQ 11.71875 9.328125 16.59375 8.109375 \nQ 21.484375 6.890625 26.8125 6.890625 \nQ 36.078125 6.890625 40.9375 10.546875 \nQ 45.796875 14.203125 45.796875 21.1875 \nQ 45.796875 27.640625 41.28125 31.265625 \nQ 36.765625 34.90625 28.71875 34.90625 \nL 20.21875 34.90625 \nL 20.21875 43.015625 \nL 29.109375 43.015625 \nQ 36.375 43.015625 40.234375 45.921875 \nQ 44.09375 48.828125 44.09375 54.296875 \nQ 44.09375 59.90625 40.109375 62.90625 \nQ 36.140625 65.921875 28.71875 65.921875 \nQ 24.65625 65.921875 20.015625 65.03125 \nQ 15.375 64.15625 9.8125 62.3125 \nL 9.8125 71.09375 \nQ 15.4375 72.65625 20.34375 73.4375 \nQ 25.25 74.21875 29.59375 74.21875 \nQ 40.828125 74.21875 47.359375 69.109375 \nQ 53.90625 64.015625 53.90625 55.328125 \nQ 53.90625 49.265625 50.4375 45.09375 \nQ 46.96875 40.921875 40.578125 39.3125 \nz\n\" id=\"DejaVuSans-51\"/>\n        <path d=\"M 10.6875 12.40625 \nL 21 12.40625 \nL 21 0 \nL 10.6875 0 \nz\n\" id=\"DejaVuSans-46\"/>\n        <path d=\"M 31.78125 66.40625 \nQ 24.171875 66.40625 20.328125 58.90625 \nQ 16.5 51.421875 16.5 36.375 \nQ 16.5 21.390625 20.328125 13.890625 \nQ 24.171875 6.390625 31.78125 6.390625 \nQ 39.453125 6.390625 43.28125 13.890625 \nQ 47.125 21.390625 47.125 36.375 \nQ 47.125 51.421875 43.28125 58.90625 \nQ 39.453125 66.40625 31.78125 66.40625 \nz\nM 31.78125 74.21875 \nQ 44.046875 74.21875 50.515625 64.515625 \nQ 56.984375 54.828125 56.984375 36.375 \nQ 56.984375 17.96875 50.515625 8.265625 \nQ 44.046875 -1.421875 31.78125 -1.421875 \nQ 19.53125 -1.421875 13.0625 8.265625 \nQ 6.59375 17.96875 6.59375 36.375 \nQ 6.59375 54.828125 13.0625 64.515625 \nQ 19.53125 74.21875 31.78125 74.21875 \nz\n\" id=\"DejaVuSans-48\"/>\n       </defs>\n       <use xlink:href=\"#DejaVuSans-8722\"/>\n       <use x=\"83.789062\" xlink:href=\"#DejaVuSans-51\"/>\n       <use x=\"147.412109\" xlink:href=\"#DejaVuSans-46\"/>\n       <use x=\"179.199219\" xlink:href=\"#DejaVuSans-48\"/>\n      </g>\n     </g>\n    </g>\n    <g id=\"xtick_2\">\n     <g id=\"line2d_2\">\n      <g>\n       <use style=\"stroke:#000000;stroke-width:0.8;\" x=\"120.795952\" xlink:href=\"#m1002c2ec59\" y=\"61.56\"/>\n      </g>\n     </g>\n     <g id=\"text_2\">\n      <!-- −2.5 -->\n      <g transform=\"translate(108.654545 76.158437)scale(0.1 -0.1)\">\n       <defs>\n        <path d=\"M 19.1875 8.296875 \nL 53.609375 8.296875 \nL 53.609375 0 \nL 7.328125 0 \nL 7.328125 8.296875 \nQ 12.9375 14.109375 22.625 23.890625 \nQ 32.328125 33.6875 34.8125 36.53125 \nQ 39.546875 41.84375 41.421875 45.53125 \nQ 43.3125 49.21875 43.3125 52.78125 \nQ 43.3125 58.59375 39.234375 62.25 \nQ 35.15625 65.921875 28.609375 65.921875 \nQ 23.96875 65.921875 18.8125 64.3125 \nQ 13.671875 62.703125 7.8125 59.421875 \nL 7.8125 69.390625 \nQ 13.765625 71.78125 18.9375 73 \nQ 24.125 74.21875 28.421875 74.21875 \nQ 39.75 74.21875 46.484375 68.546875 \nQ 53.21875 62.890625 53.21875 53.421875 \nQ 53.21875 48.921875 51.53125 44.890625 \nQ 49.859375 40.875 45.40625 35.40625 \nQ 44.1875 33.984375 37.640625 27.21875 \nQ 31.109375 20.453125 19.1875 8.296875 \nz\n\" id=\"DejaVuSans-50\"/>\n        <path d=\"M 10.796875 72.90625 \nL 49.515625 72.90625 \nL 49.515625 64.59375 \nL 19.828125 64.59375 \nL 19.828125 46.734375 \nQ 21.96875 47.46875 24.109375 47.828125 \nQ 26.265625 48.1875 28.421875 48.1875 \nQ 40.625 48.1875 47.75 41.5 \nQ 54.890625 34.8125 54.890625 23.390625 \nQ 54.890625 11.625 47.5625 5.09375 \nQ 40.234375 -1.421875 26.90625 -1.421875 \nQ 22.3125 -1.421875 17.546875 -0.640625 \nQ 12.796875 0.140625 7.71875 1.703125 \nL 7.71875 11.625 \nQ 12.109375 9.234375 16.796875 8.0625 \nQ 21.484375 6.890625 26.703125 6.890625 \nQ 35.15625 6.890625 40.078125 11.328125 \nQ 45.015625 15.765625 45.015625 23.390625 \nQ 45.015625 31 40.078125 35.4375 \nQ 35.15625 39.890625 26.703125 39.890625 \nQ 22.75 39.890625 18.8125 39.015625 \nQ 14.890625 38.140625 10.796875 36.28125 \nz\n\" id=\"DejaVuSans-53\"/>\n       </defs>\n       <use xlink:href=\"#DejaVuSans-8722\"/>\n       <use x=\"83.789062\" xlink:href=\"#DejaVuSans-50\"/>\n       <use x=\"147.412109\" xlink:href=\"#DejaVuSans-46\"/>\n       <use x=\"179.199219\" xlink:href=\"#DejaVuSans-53\"/>\n      </g>\n     </g>\n    </g>\n    <g id=\"xtick_3\">\n     <g id=\"line2d_3\">\n      <g>\n       <use style=\"stroke:#000000;stroke-width:0.8;\" x=\"222.250497\" xlink:href=\"#m1002c2ec59\" y=\"61.56\"/>\n      </g>\n     </g>\n     <g id=\"text_3\">\n      <!-- −2.0 -->\n      <g transform=\"translate(210.109091 76.158437)scale(0.1 -0.1)\">\n       <use xlink:href=\"#DejaVuSans-8722\"/>\n       <use x=\"83.789062\" xlink:href=\"#DejaVuSans-50\"/>\n       <use x=\"147.412109\" xlink:href=\"#DejaVuSans-46\"/>\n       <use x=\"179.199219\" xlink:href=\"#DejaVuSans-48\"/>\n      </g>\n     </g>\n    </g>\n    <g id=\"xtick_4\">\n     <g id=\"line2d_4\">\n      <g>\n       <use style=\"stroke:#000000;stroke-width:0.8;\" x=\"323.705043\" xlink:href=\"#m1002c2ec59\" y=\"61.56\"/>\n      </g>\n     </g>\n     <g id=\"text_4\">\n      <!-- −1.5 -->\n      <g transform=\"translate(311.563636 76.158437)scale(0.1 -0.1)\">\n       <defs>\n        <path d=\"M 12.40625 8.296875 \nL 28.515625 8.296875 \nL 28.515625 63.921875 \nL 10.984375 60.40625 \nL 10.984375 69.390625 \nL 28.421875 72.90625 \nL 38.28125 72.90625 \nL 38.28125 8.296875 \nL 54.390625 8.296875 \nL 54.390625 0 \nL 12.40625 0 \nz\n\" id=\"DejaVuSans-49\"/>\n       </defs>\n       <use xlink:href=\"#DejaVuSans-8722\"/>\n       <use x=\"83.789062\" xlink:href=\"#DejaVuSans-49\"/>\n       <use x=\"147.412109\" xlink:href=\"#DejaVuSans-46\"/>\n       <use x=\"179.199219\" xlink:href=\"#DejaVuSans-53\"/>\n      </g>\n     </g>\n    </g>\n    <g id=\"xtick_5\">\n     <g id=\"line2d_5\">\n      <g>\n       <use style=\"stroke:#000000;stroke-width:0.8;\" x=\"425.159588\" xlink:href=\"#m1002c2ec59\" y=\"61.56\"/>\n      </g>\n     </g>\n     <g id=\"text_5\">\n      <!-- −1.0 -->\n      <g transform=\"translate(413.018182 76.158437)scale(0.1 -0.1)\">\n       <use xlink:href=\"#DejaVuSans-8722\"/>\n       <use x=\"83.789062\" xlink:href=\"#DejaVuSans-49\"/>\n       <use x=\"147.412109\" xlink:href=\"#DejaVuSans-46\"/>\n       <use x=\"179.199219\" xlink:href=\"#DejaVuSans-48\"/>\n      </g>\n     </g>\n    </g>\n    <g id=\"xtick_6\">\n     <g id=\"line2d_6\">\n      <g>\n       <use style=\"stroke:#000000;stroke-width:0.8;\" x=\"526.614134\" xlink:href=\"#m1002c2ec59\" y=\"61.56\"/>\n      </g>\n     </g>\n     <g id=\"text_6\">\n      <!-- −0.5 -->\n      <g transform=\"translate(514.472727 76.158437)scale(0.1 -0.1)\">\n       <use xlink:href=\"#DejaVuSans-8722\"/>\n       <use x=\"83.789062\" xlink:href=\"#DejaVuSans-48\"/>\n       <use x=\"147.412109\" xlink:href=\"#DejaVuSans-46\"/>\n       <use x=\"179.199219\" xlink:href=\"#DejaVuSans-53\"/>\n      </g>\n     </g>\n    </g>\n   </g>\n   <g id=\"matplotlib.axis_2\"/>\n   <g id=\"line2d_7\">\n    <path clip-path=\"url(#pa040f183e9)\" d=\"M 290.570406 61.56 \nL 290.570406 7.2 \n\" style=\"fill:none;stroke:#1f77b4;stroke-linecap:square;stroke-width:1.5;\"/>\n   </g>\n   <g id=\"patch_3\">\n    <path d=\"M 19.341406 61.56 \nL 19.341406 7.2 \n\" style=\"fill:none;stroke:#000000;stroke-linecap:square;stroke-linejoin:miter;stroke-width:0.8;\"/>\n   </g>\n   <g id=\"patch_4\">\n    <path d=\"M 577.341406 61.56 \nL 577.341406 7.2 \n\" style=\"fill:none;stroke:#000000;stroke-linecap:square;stroke-linejoin:miter;stroke-width:0.8;\"/>\n   </g>\n   <g id=\"patch_5\">\n    <path d=\"M 19.341406 61.56 \nL 577.341406 61.56 \n\" style=\"fill:none;stroke:#000000;stroke-linecap:square;stroke-linejoin:miter;stroke-width:0.8;\"/>\n   </g>\n   <g id=\"patch_6\">\n    <path d=\"M 19.341406 7.2 \nL 577.341406 7.2 \n\" style=\"fill:none;stroke:#000000;stroke-linecap:square;stroke-linejoin:miter;stroke-width:0.8;\"/>\n   </g>\n   <g id=\"text_7\">\n    <!-- A -->\n    <g transform=\"translate(502.753042 34.38)scale(0.1 -0.1)\">\n     <defs>\n      <path d=\"M 34.1875 63.1875 \nL 20.796875 26.90625 \nL 47.609375 26.90625 \nz\nM 28.609375 72.90625 \nL 39.796875 72.90625 \nL 67.578125 0 \nL 57.328125 0 \nL 50.6875 18.703125 \nL 17.828125 18.703125 \nL 11.1875 0 \nL 0.78125 0 \nz\n\" id=\"DejaVuSans-65\"/>\n     </defs>\n     <use xlink:href=\"#DejaVuSans-65\"/>\n    </g>\n   </g>\n   <g id=\"text_8\">\n    <!-- B -->\n    <g transform=\"translate(90.562315 34.38)scale(0.1 -0.1)\">\n     <defs>\n      <path d=\"M 19.671875 34.8125 \nL 19.671875 8.109375 \nL 35.5 8.109375 \nQ 43.453125 8.109375 47.28125 11.40625 \nQ 51.125 14.703125 51.125 21.484375 \nQ 51.125 28.328125 47.28125 31.5625 \nQ 43.453125 34.8125 35.5 34.8125 \nz\nM 19.671875 64.796875 \nL 19.671875 42.828125 \nL 34.28125 42.828125 \nQ 41.5 42.828125 45.03125 45.53125 \nQ 48.578125 48.25 48.578125 53.8125 \nQ 48.578125 59.328125 45.03125 62.0625 \nQ 41.5 64.796875 34.28125 64.796875 \nz\nM 9.8125 72.90625 \nL 35.015625 72.90625 \nQ 46.296875 72.90625 52.390625 68.21875 \nQ 58.5 63.53125 58.5 54.890625 \nQ 58.5 48.1875 55.375 44.234375 \nQ 52.25 40.28125 46.1875 39.3125 \nQ 53.46875 37.75 57.5 32.78125 \nQ 61.53125 27.828125 61.53125 20.40625 \nQ 61.53125 10.640625 54.890625 5.3125 \nQ 48.25 0 35.984375 0 \nL 9.8125 0 \nz\n\" id=\"DejaVuSans-66\"/>\n     </defs>\n     <use xlink:href=\"#DejaVuSans-66\"/>\n    </g>\n   </g>\n   <g id=\"text_9\">\n    <!-- M -->\n    <g transform=\"translate(390.260107 34.38)scale(0.1 -0.1)\">\n     <defs>\n      <path d=\"M 9.8125 72.90625 \nL 24.515625 72.90625 \nL 43.109375 23.296875 \nL 61.8125 72.90625 \nL 76.515625 72.90625 \nL 76.515625 0 \nL 66.890625 0 \nL 66.890625 64.015625 \nL 48.09375 14.015625 \nL 38.1875 14.015625 \nL 19.390625 64.015625 \nL 19.390625 0 \nL 9.8125 0 \nz\n\" id=\"DejaVuSans-77\"/>\n     </defs>\n     <use xlink:href=\"#DejaVuSans-77\"/>\n    </g>\n   </g>\n  </g>\n </g>\n <defs>\n  <clipPath id=\"pa040f183e9\">\n   <rect height=\"54.36\" width=\"558\" x=\"19.341406\" y=\"7.2\"/>\n  </clipPath>\n </defs>\n</svg>\n",
      "image/png": "[encoded data removed]"
     },
     "metadata": {
      "needs_background": "light"
     }
    }
   ],
   "source": [
    "# import libs\n",
    "import numpy as np\n",
    "from numpy.linalg import inv\n",
    "import matplotlib.pyplot as plt\n",
    "\n",
    "# define classes\n",
    "A = np.array([[2, 10], [2, 5], [1, 2], [4, 9]]) # class 1\n",
    "B = np.array([[8, 4], [5, 8], [7, 5], [6, 4]]) # class 2\n",
    "\n",
    "# compute class means\n",
    "mean_a = np.mean(A, axis=0)\n",
    "mean_b = np.mean(B, axis=0)\n",
    "\n",
    "# calculate scatter matrices\n",
    "scatter_a = 3*np.cov(A.T)\n",
    "scatter_b = 3*np.cov(B.T)\n",
    "S = scatter_a + scatter_b # total scatter matrix\n",
    "\n",
    "S_inv = inv(S) # calcluate the inverse of S\n",
    "\n",
    "# calculate projections\n",
    "w = np.matmul(S_inv, (mean_a-mean_b)) \n",
    "proj_a = np.matmul(w.T, mean_a)\n",
    "proj_b = np.matmul(w.T, mean_b)\n",
    "z_cut = 0.5*(proj_a+proj_b) # cutoff value\n",
    "\n",
    "M = [3, 3] # point to test\n",
    "proj_m = np.matmul(w.T, M)\n",
    "\n",
    "# plot projections and cutoff\n",
    "values = [proj_a, proj_b, proj_m] \n",
    "\n",
    "plt.annotate('A', xy=(proj_a+0.03, 0))\n",
    "plt.annotate('B', xy=(proj_b+0.03, 0))\n",
    "plt.annotate('M', xy=(proj_m+0.03, 0))\n",
    "plt.scatter(values, [0, 0, 0], c='black')\n",
    "plt.rcParams[\"figure.figsize\"] = (10, 1)\n",
    "plt.axvline(z_cut)\n",
    "plt.xlim(-3, -0.25)\n",
    "plt.yticks([])\n",
    "plt.show()"
   ]
  },
  {
   "source": [
    "-----\n",
    "\n",
    "### Problem 4 - GINI Impurity"
   ],
   "cell_type": "markdown",
   "metadata": {}
  },
  {
   "cell_type": "code",
   "execution_count": 23,
   "metadata": {},
   "outputs": [
    {
     "output_type": "stream",
     "name": "stdout",
     "text": [
      "GINI impurity for color feature: 0.2222222222222222\nGINI impurity for shape feature: 0.5\nGINI impurity for size feature: 0.25\n"
     ]
    }
   ],
   "source": [
    "# import libs\n",
    "import pandas as pd\n",
    "import numpy as np\n",
    "\n",
    "# define dataframe to work with\n",
    "cols = ['color', 'shape', 'size', 'class']\n",
    "data = np.array([\n",
    "    ['red', 'square', 'big', '+'],\n",
    "    ['blue', 'square', 'big', '+'],\n",
    "    ['red', 'round', 'small', '-'],\n",
    "    ['green', 'square', 'small', '-'],\n",
    "    ['red', 'round', 'big', '+'],\n",
    "    ['green', 'square', 'big', '-']\n",
    "])\n",
    "\n",
    "data = pd.DataFrame(data, columns=cols)\n",
    "\n",
    "# functionn to calculate GINI impurity\n",
    "def gini(a, b):\n",
    "    return 2*(a/(a+b))*(b/(a+b))\n",
    "\n",
    "# calculate GINI index for the color feature\n",
    "red_gini = gini(2, 1)\n",
    "blue_gini = gini(1, 0)\n",
    "green_gini = gini(0, 2)\n",
    "\n",
    "color_gini = (3/6)*red_gini + (1/6)*blue_gini + (2/6)*green_gini\n",
    "\n",
    "# calculate GINI index for the shape feature\n",
    "square_gini = gini(2, 2)\n",
    "round_gini = gini(1, 1)\n",
    "\n",
    "shape_gini = (4/6)*square_gini + (2/6)*round_gini\n",
    "\n",
    "# calculate GINI index for the size feature\n",
    "big_gini = gini(3, 1)\n",
    "small_gini = gini(0, 2)\n",
    "\n",
    "size_gini = (4/6)*big_gini + (2/6)*small_gini\n",
    "\n",
    "print('GINI impurity for color feature:', color_gini)\n",
    "print('GINI impurity for shape feature:', shape_gini)\n",
    "print('GINI impurity for size feature:', size_gini)"
   ]
  },
  {
   "source": [
    "-----\n",
    "\n",
    "### Problem 5 - Neural Networks"
   ],
   "cell_type": "markdown",
   "metadata": {}
  },
  {
   "cell_type": "code",
   "execution_count": 3,
   "metadata": {},
   "outputs": [
    {
     "output_type": "stream",
     "name": "stdout",
     "text": [
      "Output with original weights: 0.5085060742863741\n"
     ]
    }
   ],
   "source": [
    "# import libs\n",
    "import numpy as np\n",
    "\n",
    "# sigmoidal activation function\n",
    "def sigmoid(output):\n",
    "    return 1/(1 + np.exp(-output))\n",
    "\n",
    "# PART 1: DETERMINE NEURAL NET OUTPUT\n",
    "initial_inputs = np.array([1, 0]) # inputs into the hidden layer\n",
    "w3 = np.array([3, 4]) # weights on node u3\n",
    "w4 = np.array([6, 5]) # weights on node u4\n",
    "w5 = np.array([2, 4]) # weights on node u5\n",
    "\n",
    "h3 = sigmoid(np.dot(initial_inputs, w3) + 1) # output of hidden layer node 1 (u3)\n",
    "h4 = sigmoid(np.dot(initial_inputs, w4) - 6) # output of hidden layer node 2 (u4)\n",
    "\n",
    "hidden_inputs = np.array([h3, h4]) # hidden layer outputs become inputs for next layer\n",
    "\n",
    "output = sigmoid(np.dot(hidden_inputs, w5) - 3.93) # output of the entire neural net\n",
    "print('Output with original weights:', output)"
   ]
  },
  {
   "cell_type": "code",
   "execution_count": 4,
   "metadata": {
    "tags": []
   },
   "outputs": [
    {
     "output_type": "stream",
     "name": "stdout",
     "text": [
      "Output with updated weights: 0.9997262414858352\n\nNew weight from u1 to u3: 9.141896011053635\nNew weight from u3 to u5: 8.141896011053346\n"
     ]
    }
   ],
   "source": [
    "# PART 2: GENERALIZED DELTA RULE\n",
    "w3_new, w4_new, w5_new = 0, 0, 0 # new weights, initially 0\n",
    "target = 1 # target value\n",
    "alpha = 0.025 # learning rate\n",
    "\n",
    "for i in range (2000): # reduce the error through multiple iterations\n",
    "    error = (target-output) # target is 1, output is defined in part 1\n",
    "    gd = error*output*(1-output)*initial_inputs # gradient descent\n",
    "\n",
    "    # calculate new weights using the learning rate and the gradient descent\n",
    "    w3_new = w3 + alpha*gd\n",
    "    w4_new = w4 + alpha*gd\n",
    "    w5_new = w5 + alpha*gd\n",
    "    w3, w4, w5 = w3_new, w4_new, w5_new\n",
    "\n",
    "# run the new weights through the original neural net as a check\n",
    "h3 = sigmoid(np.dot(initial_inputs, w3) + 1) # output of hidden layer node 1 (u3)\n",
    "h4 = sigmoid(np.dot(initial_inputs, w4) - 6) # output of hidden layer node 2 (u4)\n",
    "\n",
    "hidden_inputs = np.array([h3, h4]) # hidden layer outputs become inputs for next layer\n",
    "\n",
    "output = sigmoid(np.dot(hidden_inputs, w5) - 3.93) # output of the entire neural net\n",
    "print('Output with updated weights:', output)\n",
    "\n",
    "print('\\nNew weight from u1 to u3:', w3_new[0])\n",
    "print('New weight from u3 to u5:', w5_new[0])\n"
   ]
  }
 ]
}